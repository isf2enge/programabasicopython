{
  "cells": [
    {
      "cell_type": "markdown",
      "metadata": {
        "id": "SEE0vQsW83yB"
      },
      "source": [
        "### 01 - Teste de gravidez\n",
        "Escreva uma célula com controle de fluxos que tem como premissa a existência das seguintes variáveis:\n",
        "\n",
        "- ```sexo``` como ```str``` indicando os valores '**M**' para masculino e '**F**' para feminino  \n",
        "- ```beta_hcg``` que indica a quantidade do beta-HCG no sangue em mUI/mL.\n",
        "\n",
        "A sua tarefa é escrever um código que imprima como resultado \"indivíduo do sexo masculino\" quando sexo = 'M', caso sexo = 'F', se o valor de beta-HCG for maior que 5, retorne \"Positivo\" indicando que a paciente está grávida, e retorne \"Negativo\" caso contrário.\n",
        "\n",
        "Não mexa nos valores da variável ```sexo``` nem em ```beta_hcg```, e escreva um código que funcione para quaisquer valores possíveis de ambos: ```sexo``` = '**M**' ou '**F**' e ```beta_hcg``` assumindo valores inteiros positivos."
      ]
    },
    {
      "cell_type": "code",
      "execution_count": 6,
      "metadata": {
        "id": "cTOc4LG683yE",
        "colab": {
          "base_uri": "https://localhost:8080/"
        },
        "outputId": "f97da385-ad31-4491-88ed-4c5c8ad05c36"
      },
      "outputs": [
        {
          "output_type": "stream",
          "name": "stdout",
          "text": [
            "indivíduo do sexo masculino\n"
          ]
        }
      ],
      "source": [
        "sexo = 'M'\n",
        "beta_hcg = 0\n",
        "\n",
        "# seu código vem abaixo desta linha\n",
        "\n",
        "if sexo == 'M':\n",
        "  print('indivíduo do sexo masculino')\n",
        "elif sexo == 'F':\n",
        "  if beta_hcg>=5:\n",
        "    print('Está gravida')\n",
        "  else:\n",
        "    print('Não está grávida')\n"
      ]
    },
    {
      "cell_type": "markdown",
      "metadata": {
        "id": "uCoIZDE383yF"
      },
      "source": [
        "### 02 - Renomeando variáveis\n",
        "\n",
        "Vamos ver adiante que uma forma de renomear variáveis de um conjunto de dados é através de dicionários - o dicionário deve conter como chave o nome original, associando a cada chave um único valor (tipo *str*) que contenha o nome novo.\n",
        "\n",
        "A sua tarefa é escrever um dicionário que possa ser utilizado para traduzir as variáveis ```name``` (nome), ```age``` (idade) e ```income``` (renda). Ou seja, esse dicionário deve relacionar as chaves *name, age* e *income* às suas respectivas traduções."
      ]
    },
    {
      "cell_type": "code",
      "execution_count": 7,
      "metadata": {
        "id": "Bh6ijpbu83yG",
        "outputId": "57f18fa1-0a50-4165-c2e7-e183f6901343",
        "colab": {
          "base_uri": "https://localhost:8080/"
        }
      },
      "outputs": [
        {
          "output_type": "execute_result",
          "data": {
            "text/plain": [
              "{'name': 'nome', 'age': 'idade', 'income': 'renda'}"
            ]
          },
          "metadata": {},
          "execution_count": 7
        }
      ],
      "source": [
        "dic_renomeacao = {'name': 'nome','age':'idade','income':'renda'}\n",
        "dic_renomeacao"
      ]
    },
    {
      "cell_type": "markdown",
      "metadata": {
        "id": "95zumO5g83yH"
      },
      "source": [
        "### 03 - É divisível?\n",
        "A sua tarefa é escrever um código que indique se um número ```N``` é divisível por um número P. Escreva um programa que faça essa verificação para quaisquer combinações de ```N``` e ```M``` e devolva uma mensagem indicativa no output."
      ]
    },
    {
      "cell_type": "code",
      "execution_count": 9,
      "metadata": {
        "id": "BR2zOhmN83yI",
        "colab": {
          "base_uri": "https://localhost:8080/"
        },
        "outputId": "9e26186f-a332-419a-b4f2-2308a7344c2f"
      },
      "outputs": [
        {
          "output_type": "stream",
          "name": "stdout",
          "text": [
            "O numero 42 é divisivel por 7\n"
          ]
        }
      ],
      "source": [
        "from logging import fatal\n",
        "N = 42\n",
        "M = 7\n",
        "\n",
        "#Seu código\n",
        "\n",
        "\n",
        "if N%M == 0:\n",
        "  print(f'O numero {N} é divisivel por {M}')\n",
        "else:\n",
        "  print(f'O numero {N} não é divisivel por {M}')\n",
        "\n",
        "\n"
      ]
    },
    {
      "cell_type": "markdown",
      "metadata": {
        "id": "0d5Kdrz283yJ"
      },
      "source": [
        "### 04 - Números primos\n",
        "> Um número **N** é primo se e somente se é divisível por 1, -1, por **N** e por -**N**.  \n",
        "\n",
        "Escreva um script que verifica se ```N``` é um número primo, verificando se ```N``` é divisível por todos os números de ```1``` a ```N-1```. Você vai precisar usar alguma ferramenta de *loop* que você aprendeu para isto. No final, devolva uma mensagem no output indicando se o número é primo ou não."
      ]
    },
    {
      "cell_type": "code",
      "execution_count": 20,
      "metadata": {
        "id": "h_lFO-EO83yJ",
        "colab": {
          "base_uri": "https://localhost:8080/"
        },
        "outputId": "46e7a6c4-6559-4a89-d651-dc592b4e1835"
      },
      "outputs": [
        {
          "output_type": "stream",
          "name": "stdout",
          "text": [
            "O numero 48 não é primo\n"
          ]
        }
      ],
      "source": [
        "N = 48\n",
        "\n",
        "# seu código abaixo\n",
        "\n",
        "\n",
        "for i in range(1,N-1):\n",
        "  if N%i == 0 and (i!=1):\n",
        "   a = False\n",
        "\n",
        "if a == False:\n",
        "  print(f'O numero {N} não é primo')\n",
        "\n",
        "else:\n",
        "  print(f'O numero {N}  é primo')\n",
        "\n"
      ]
    },
    {
      "cell_type": "markdown",
      "metadata": {
        "id": "zHwDnURO83yK"
      },
      "source": [
        "### 05 - Desafio\n",
        "O algorítmo do exercício anterior não é o mais eficiente. O que você pode fazer para deixá-lo mais eficiente? Ou seja, executar menos comparações, portanto consumir menos tempo.\n",
        "1. Será que precisamos correr o loop até o final sempre?\n",
        "2. Será que precisamos mesmo verificar **todos** os números?\n",
        "3. Será que precisamos ir até N-1?\n",
        "\n",
        "Essas perguntas levam ao tipo de pensamento voltado a deixar um algoritmo mais eficiente. Veja se você consegue melhorar o seu."
      ]
    },
    {
      "cell_type": "code",
      "execution_count": 23,
      "metadata": {
        "id": "DDdwfZOL83yM",
        "colab": {
          "base_uri": "https://localhost:8080/"
        },
        "outputId": "959f82f3-4e53-4b6c-f910-adc8732769b1"
      },
      "outputs": [
        {
          "output_type": "stream",
          "name": "stdout",
          "text": [
            "O numero 12555555688741 é primo\n"
          ]
        }
      ],
      "source": [
        "N = 12555555688741\n",
        "\n",
        "# seu código aqui\n",
        "\n",
        "if N%2 ==0 or N%3 == 0 or N%5 == 0: #Caso o numero seja divisivel pelos numeros primarios ele sera nao primo\n",
        "  print(f'O numero {N} não é primo')\n",
        "else:\n",
        "  print(f'O numero {N} é primo')\n",
        "\n"
      ]
    },
    {
      "cell_type": "markdown",
      "metadata": {
        "id": "4zhVSQan83yN"
      },
      "source": [
        "### 06 - Peso ideal 1\n",
        "O IMC (índice de massa corpórea) é um indicador de saúde mais bem aceito que o peso. Ele é calculado como:\n",
        "\n",
        "$$ IMC = \\dfrac{peso}{altura^2}$$\n",
        "\n",
        "Segundo a OMS, valores *normais* são entre 18.5 e 24.9.\n",
        "\n",
        "Sua tarefa é encontrar o ponto médio dessa faixa."
      ]
    },
    {
      "cell_type": "code",
      "execution_count": 24,
      "metadata": {
        "id": "3DzxicN983yO",
        "outputId": "e0e2cb86-a2d4-4484-9f3a-9c7a00fc5391",
        "colab": {
          "base_uri": "https://localhost:8080/"
        }
      },
      "outputs": [
        {
          "output_type": "execute_result",
          "data": {
            "text/plain": [
              "21.7"
            ]
          },
          "metadata": {},
          "execution_count": 24
        }
      ],
      "source": [
        "imc_ideal = (18.5 + 24.9)/2\n",
        "imc_ideal"
      ]
    },
    {
      "cell_type": "markdown",
      "metadata": {
        "id": "Z8uBOym483yP"
      },
      "source": [
        "### 07 - Peso ideal 2\n",
        "Recebendo um valor de altura, encontre o peso '*ideal*' dessa pessoa, que fornece o IMC encontrado acima"
      ]
    },
    {
      "cell_type": "code",
      "execution_count": 25,
      "metadata": {
        "id": "rrNwycte83yP",
        "outputId": "819759d9-b2db-4da0-a9d1-f2f76655628d",
        "colab": {
          "base_uri": "https://localhost:8080/"
        }
      },
      "outputs": [
        {
          "output_type": "execute_result",
          "data": {
            "text/plain": [
              "62.712999999999994"
            ]
          },
          "metadata": {},
          "execution_count": 25
        }
      ],
      "source": [
        "altura = 1.70\n",
        "\n",
        "# Seu código\n",
        "peso_ideal = imc_ideal * (altura**2)\n",
        "peso_ideal"
      ]
    },
    {
      "cell_type": "markdown",
      "metadata": {
        "id": "zEdM6J_i83yP"
      },
      "source": [
        "### 08 - Peso ideal 3\n",
        "Dada uma lista contendo as alturas de pacientes, crie uma nova lista que contenha o peso '*ideal*' (que fornece o IMC calculado em **Peso ideal 1**) desses pacientes."
      ]
    },
    {
      "cell_type": "code",
      "execution_count": 27,
      "metadata": {
        "id": "KN1mB_My83yQ",
        "outputId": "e691be54-56e0-4a13-f753-8c5381a2e4b3",
        "colab": {
          "base_uri": "https://localhost:8080/"
        }
      },
      "outputs": [
        {
          "output_type": "execute_result",
          "data": {
            "text/plain": [
              "[82.51424999999999, 91.19425, 62.712999999999994, 59.07824999999999]"
            ]
          },
          "metadata": {},
          "execution_count": 27
        }
      ],
      "source": [
        "lista_alturas = [1.95, 2.05, 1.70, 1.65]\n",
        "\n",
        "lista_peso_ideal = []\n",
        "\n",
        "# seu código\n",
        "\n",
        "for i in lista_alturas:\n",
        "    peso_ideal = imc_ideal * (i**2)\n",
        "    lista_peso_ideal.append(peso_ideal)\n",
        "\n",
        "\n",
        "\n",
        "\n",
        "lista_peso_ideal"
      ]
    },
    {
      "cell_type": "markdown",
      "metadata": {
        "id": "8OKAtYQM83yQ"
      },
      "source": [
        "### 09 - Peso ideal 4\n",
        "Dada uma lista de tuplas - cada elemento da lista é uma tupla contendo altura e peso de um paciente - crie uma nova lista com o IMC desses pacientes."
      ]
    },
    {
      "cell_type": "code",
      "execution_count": 30,
      "metadata": {
        "id": "FaXgkjzI83yQ",
        "outputId": "77439a4a-790d-48f9-ad82-c98e18cce740",
        "colab": {
          "base_uri": "https://localhost:8080/"
        }
      },
      "outputs": [
        {
          "output_type": "execute_result",
          "data": {
            "text/plain": [
              "[48.97959183673469, 50.56, 24.25]"
            ]
          },
          "metadata": {},
          "execution_count": 30
        }
      ],
      "source": [
        "pessoa = [(1.75, 150), (1.25, 79), (2, 97)]\n",
        "\n",
        "imc = []\n",
        "\n",
        "# seu código\n",
        "for i in pessoa:\n",
        "    imc1 = i[1] / i[0]**2\n",
        "    imc.append(imc1)\n",
        "\n",
        "imc"
      ]
    },
    {
      "cell_type": "markdown",
      "metadata": {
        "id": "kZdSJqJq83yR"
      },
      "source": [
        "### 10 - Peso ideal 5\n",
        "Dada uma lista de **listas** - cada elemento da lista é uma **lista** contendo altura e peso de um paciente, adicione mais um elemento à lista de cada paciente contendo o IMC do paciente. Verifique também se é 'baixo', 'normal' ou 'alto' segundo os padrões da OMS em que normal é entre 18.5 e 24.9.\n",
        "\n",
        "Reflexão: por que no problema anterior temos que criar uma nova lista, e não podemos adicionar os dados de cada indivíduo à tupla?"
      ]
    },
    {
      "cell_type": "code",
      "execution_count": 31,
      "metadata": {
        "id": "EwszojP283yR",
        "colab": {
          "base_uri": "https://localhost:8080/"
        },
        "outputId": "81c3a35f-4000-48c7-8e56-3ab37fb87eae"
      },
      "outputs": [
        {
          "output_type": "execute_result",
          "data": {
            "text/plain": [
              "[[1.8, 90, 'alto', 27.777777777777775],\n",
              " [1.65, 75, 'alto', 27.548209366391188],\n",
              " [1.91, 70, 'normal', 19.188070502453332]]"
            ]
          },
          "metadata": {},
          "execution_count": 31
        }
      ],
      "source": [
        "altura_peso = [[1.80, 90], [1.65, 75], [1.91, 70]]\n",
        "\n",
        "# seu código\n",
        "for i in altura_peso:\n",
        "    imc1= i[1] / i[0]**2\n",
        "    if imc1 < 18.5:\n",
        "        nivel='baixo'\n",
        "    elif imc1 > 24.9:\n",
        "        nivel='alto'\n",
        "    else:\n",
        "        nivel='normal'\n",
        "\n",
        "    i.append(nivel)\n",
        "    i.append(imc1)\n",
        "altura_peso"
      ]
    }
  ],
  "metadata": {
    "kernelspec": {
      "display_name": "Python 3",
      "language": "python",
      "name": "python3"
    },
    "language_info": {
      "codemirror_mode": {
        "name": "ipython",
        "version": 3
      },
      "file_extension": ".py",
      "mimetype": "text/x-python",
      "name": "python",
      "nbconvert_exporter": "python",
      "pygments_lexer": "ipython3",
      "version": "3.8.5"
    },
    "colab": {
      "provenance": []
    }
  },
  "nbformat": 4,
  "nbformat_minor": 0
}